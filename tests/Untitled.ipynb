{
 "cells": [
  {
   "cell_type": "code",
   "execution_count": 66,
   "id": "93c5a6fd",
   "metadata": {},
   "outputs": [],
   "source": [
    "from dataclasses import dataclass\n",
    "from abc import ABC, abstractmethod\n",
    "from enum import Enum, auto\n",
    "\n",
    "class callback(Enum):\n",
    "    CONST_FLOW = auto()\n",
    "    MANUAL_FLOW = auto()"
   ]
  },
  {
   "cell_type": "code",
   "execution_count": 74,
   "id": "666f2407",
   "metadata": {},
   "outputs": [],
   "source": [
    "@dataclass\n",
    "class FlowConfiguration(ABC):\n",
    "    cb: callback\n",
    "        \n",
    "    @abstractmethod\n",
    "    def validate(self) -> bool:\n",
    "        pass"
   ]
  },
  {
   "cell_type": "code",
   "execution_count": 75,
   "id": "f8a18d86",
   "metadata": {},
   "outputs": [],
   "source": [
    "class Test:\n",
    "    def __init__(self):\n",
    "        self.cb_map = {}\n",
    "        self.config = None\n",
    "        self.cb_map[callback.CONST_FLOW] = [lambda x: print(x)]\n",
    "        \n",
    "    def register_callback(self, name: callback, fn):\n",
    "        self.cb_map[name].append(fn)\n",
    "        \n",
    "    def update_config(self, config):\n",
    "        self.config = config\n",
    "        for cb in self.cb_map[config.cb]:\n",
    "            cb(self.config)"
   ]
  },
  {
   "cell_type": "code",
   "execution_count": 76,
   "id": "51d10e90",
   "metadata": {},
   "outputs": [],
   "source": [
    "t = Test()"
   ]
  },
  {
   "cell_type": "code",
   "execution_count": 77,
   "id": "419cdf38",
   "metadata": {},
   "outputs": [],
   "source": [
    "@dataclass\n",
    "class ConstantFlow(FlowConfiguration):\n",
    "    cb: callback = callback.CONST_FLOW \n",
    "    flow: float = 0.0\n",
    "    duration: int = 0\n",
    "    \n",
    "    def validate(self) -> bool:\n",
    "        if self.duration <= 0: return False\n",
    "\n",
    "\n",
    "@dataclass\n",
    "class ManualFlow(FlowConfiguration):\n",
    "    cb: callback = callback.MANUAL_FLOW\n",
    "    flow: float = 0.0\n",
    "    duration: int = 0\n",
    "    \n",
    "    def validate(self) -> bool:\n",
    "        if self.duration <= 0: return False\n"
   ]
  },
  {
   "cell_type": "code",
   "execution_count": 78,
   "id": "1982a16d",
   "metadata": {},
   "outputs": [
    {
     "name": "stdout",
     "output_type": "stream",
     "text": [
      "ConstantFlow(cb=<callback.CONST_FLOW: 1>, flow=0.0, duration=0)\n",
      "False\n"
     ]
    }
   ],
   "source": [
    "c = ConstantFlow()\n",
    "c.validate()\n",
    "t.register_callback(callback.CONST_FLOW, lambda x: print(x.validate()))\n",
    "t.update_config(c)"
   ]
  },
  {
   "cell_type": "code",
   "execution_count": 29,
   "id": "e148c9f4",
   "metadata": {},
   "outputs": [
    {
     "data": {
      "text/plain": [
       "True"
      ]
     },
     "execution_count": 29,
     "metadata": {},
     "output_type": "execute_result"
    }
   ],
   "source": [
    "type(c) == ManualFlow or type(c) == ConstantFlow "
   ]
  },
  {
   "cell_type": "code",
   "execution_count": 38,
   "id": "06f4b0b4",
   "metadata": {},
   "outputs": [
    {
     "data": {
      "text/plain": [
       "__main__.ConstantFlow"
      ]
     },
     "execution_count": 38,
     "metadata": {},
     "output_type": "execute_result"
    }
   ],
   "source": [
    "type(c)"
   ]
  },
  {
   "cell_type": "code",
   "execution_count": 91,
   "id": "82363d45",
   "metadata": {},
   "outputs": [],
   "source": [
    "def c(*a):\n",
    "    return(a)"
   ]
  },
  {
   "cell_type": "code",
   "execution_count": 98,
   "id": "cf5a7659",
   "metadata": {},
   "outputs": [],
   "source": [
    "d = c()"
   ]
  },
  {
   "cell_type": "code",
   "execution_count": 99,
   "id": "d2c4a81f",
   "metadata": {},
   "outputs": [
    {
     "name": "stdout",
     "output_type": "stream",
     "text": [
      "()\n"
     ]
    }
   ],
   "source": [
    "print(d)"
   ]
  },
  {
   "cell_type": "code",
   "execution_count": 100,
   "id": "32c3df74",
   "metadata": {},
   "outputs": [
    {
     "data": {
      "text/plain": [
       "True"
      ]
     },
     "execution_count": 100,
     "metadata": {},
     "output_type": "execute_result"
    }
   ],
   "source": [
    "None == None"
   ]
  },
  {
   "cell_type": "code",
   "execution_count": 106,
   "id": "11c2ed1c",
   "metadata": {},
   "outputs": [
    {
     "data": {
      "text/plain": [
       "(1, 2, 3)"
      ]
     },
     "execution_count": 106,
     "metadata": {},
     "output_type": "execute_result"
    }
   ],
   "source": [
    "a = [1,2,3]\n",
    "c(*a)"
   ]
  },
  {
   "cell_type": "code",
   "execution_count": 107,
   "id": "ffcc6cb7",
   "metadata": {},
   "outputs": [
    {
     "ename": "SyntaxError",
     "evalue": "cannot assign to function call (2414017324.py, line 1)",
     "output_type": "error",
     "traceback": [
      "\u001b[0;36m  File \u001b[0;32m\"/var/folders/vw/g9hz6g5n6gq7f2q9j3kdhlv00000gp/T/ipykernel_62606/2414017324.py\"\u001b[0;36m, line \u001b[0;32m1\u001b[0m\n\u001b[0;31m    [float(x), float(y), float(z)] = a\u001b[0m\n\u001b[0m     ^\u001b[0m\n\u001b[0;31mSyntaxError\u001b[0m\u001b[0;31m:\u001b[0m cannot assign to function call\n"
     ]
    }
   ],
   "source": [
    "[float(x), float(y), float(z)] = a"
   ]
  },
  {
   "cell_type": "code",
   "execution_count": 1,
   "id": "2a288cb3",
   "metadata": {},
   "outputs": [],
   "source": [
    "import json"
   ]
  },
  {
   "cell_type": "code",
   "execution_count": 2,
   "id": "51d95124",
   "metadata": {},
   "outputs": [],
   "source": [
    "msg = '{\"version\":\"0.2.0\",\"baud\":115200}'"
   ]
  },
  {
   "cell_type": "code",
   "execution_count": 4,
   "id": "bec3ed7b",
   "metadata": {},
   "outputs": [],
   "source": [
    "data = json.loads(msg)"
   ]
  },
  {
   "cell_type": "code",
   "execution_count": 7,
   "id": "b482509c",
   "metadata": {},
   "outputs": [
    {
     "data": {
      "text/plain": [
       "True"
      ]
     },
     "execution_count": 7,
     "metadata": {},
     "output_type": "execute_result"
    }
   ],
   "source": [
    "'version' in data"
   ]
  },
  {
   "cell_type": "code",
   "execution_count": 9,
   "id": "6987aa60",
   "metadata": {},
   "outputs": [
    {
     "data": {
      "text/plain": [
       "'\"delay\": 0, \"motor_state\": 0, \"driver\": 50, \"motor\": 50}\\r\\n'"
      ]
     },
     "execution_count": 9,
     "metadata": {},
     "output_type": "execute_result"
    }
   ],
   "source": [
    "msg = '{\"type\": \"manual\", \"delay\": 0, \"motor_state\": 0, \"driver\": 50, \"motor\": 50}\\r\\n'\n",
    "msg[19::]"
   ]
  },
  {
   "cell_type": "code",
   "execution_count": 78,
   "id": "b75243b8",
   "metadata": {},
   "outputs": [],
   "source": [
    "from dataclasses import dataclass\n",
    "\n",
    "@dataclass\n",
    "class ConfigurationPacket:\n",
    "    __values = {}\n",
    "    _flow_type: str = None\n",
    "\n",
    "    @property\n",
    "    def flow_type(self) -> str:\n",
    "        return self._flow_type\n",
    "\n",
    "    @flow_type.setter\n",
    "    def flow_type(self, v: str) -> None:\n",
    "        self._flow_type = v\n"
   ]
  },
  {
   "cell_type": "code",
   "execution_count": 79,
   "id": "a146e0fe",
   "metadata": {},
   "outputs": [],
   "source": [
    "sp = ConfigurationPacket()"
   ]
  },
  {
   "cell_type": "code",
   "execution_count": 80,
   "id": "3677cdbc",
   "metadata": {},
   "outputs": [],
   "source": [
    "sp.flow_type = 'a'"
   ]
  },
  {
   "cell_type": "code",
   "execution_count": 81,
   "id": "48d980fb",
   "metadata": {},
   "outputs": [
    {
     "data": {
      "text/plain": [
       "'a'"
      ]
     },
     "execution_count": 81,
     "metadata": {},
     "output_type": "execute_result"
    }
   ],
   "source": [
    "sp.flow_type"
   ]
  },
  {
   "cell_type": "code",
   "execution_count": 82,
   "id": "cb291ee6",
   "metadata": {},
   "outputs": [
    {
     "ename": "AttributeError",
     "evalue": "'ConfigurationPacket' object has no attribute '__values'",
     "output_type": "error",
     "traceback": [
      "\u001b[0;31m---------------------------------------------------------------------------\u001b[0m",
      "\u001b[0;31mAttributeError\u001b[0m                            Traceback (most recent call last)",
      "\u001b[0;32m/var/folders/vw/g9hz6g5n6gq7f2q9j3kdhlv00000gp/T/ipykernel_44149/25552171.py\u001b[0m in \u001b[0;36m<module>\u001b[0;34m\u001b[0m\n\u001b[0;32m----> 1\u001b[0;31m \u001b[0msp\u001b[0m\u001b[0;34m.\u001b[0m\u001b[0m__values\u001b[0m\u001b[0;34m\u001b[0m\u001b[0;34m\u001b[0m\u001b[0m\n\u001b[0m",
      "\u001b[0;31mAttributeError\u001b[0m: 'ConfigurationPacket' object has no attribute '__values'"
     ]
    }
   ],
   "source": [
    "sp.__values"
   ]
  },
  {
   "cell_type": "code",
   "execution_count": null,
   "id": "eee8012b",
   "metadata": {},
   "outputs": [],
   "source": []
  }
 ],
 "metadata": {
  "kernelspec": {
   "display_name": "Python 3.9.7 64-bit",
   "language": "python",
   "name": "python397jvsc74a57bd0b0fa6594d8f4cbf19f97940f81e996739fb7646882a419484c72d19e05852a7e"
  },
  "language_info": {
   "codemirror_mode": {
    "name": "ipython",
    "version": 3
   },
   "file_extension": ".py",
   "mimetype": "text/x-python",
   "name": "python",
   "nbconvert_exporter": "python",
   "pygments_lexer": "ipython3",
   "version": "3.9.9"
  }
 },
 "nbformat": 4,
 "nbformat_minor": 5
}
